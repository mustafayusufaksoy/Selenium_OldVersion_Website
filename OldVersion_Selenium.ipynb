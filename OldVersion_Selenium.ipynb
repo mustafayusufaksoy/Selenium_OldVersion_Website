{
 "cells": [
  {
   "cell_type": "code",
   "execution_count": 10,
   "metadata": {},
   "outputs": [
    {
     "ename": "KeyboardInterrupt",
     "evalue": "",
     "output_type": "error",
     "traceback": [
      "\u001b[0;31m---------------------------------------------------------------------------\u001b[0m",
      "\u001b[0;31mKeyboardInterrupt\u001b[0m                         Traceback (most recent call last)",
      "\u001b[0;32m/tmp/ipykernel_32416/402661911.py\u001b[0m in \u001b[0;36m<module>\u001b[0;34m\u001b[0m\n\u001b[1;32m     28\u001b[0m \u001b[0;34m\u001b[0m\u001b[0m\n\u001b[1;32m     29\u001b[0m     \u001b[0melement_css\u001b[0m \u001b[0;34m=\u001b[0m \u001b[0;34mf\"#all > table > tbody > tr:nth-child({page_number}) > td.description > div > h3 > a\"\u001b[0m\u001b[0;34m\u001b[0m\u001b[0;34m\u001b[0m\u001b[0m\n\u001b[0;32m---> 30\u001b[0;31m     \u001b[0melement\u001b[0m \u001b[0;34m=\u001b[0m \u001b[0mWebDriverWait\u001b[0m\u001b[0;34m(\u001b[0m\u001b[0mdriver\u001b[0m\u001b[0;34m,\u001b[0m \u001b[0;36m30\u001b[0m\u001b[0;34m)\u001b[0m\u001b[0;34m.\u001b[0m\u001b[0muntil\u001b[0m\u001b[0;34m(\u001b[0m\u001b[0mEC\u001b[0m\u001b[0;34m.\u001b[0m\u001b[0melement_to_be_clickable\u001b[0m\u001b[0;34m(\u001b[0m\u001b[0;34m(\u001b[0m\u001b[0mBy\u001b[0m\u001b[0;34m.\u001b[0m\u001b[0mCSS_SELECTOR\u001b[0m\u001b[0;34m,\u001b[0m \u001b[0melement_css\u001b[0m\u001b[0;34m)\u001b[0m\u001b[0;34m)\u001b[0m\u001b[0;34m)\u001b[0m\u001b[0;34m\u001b[0m\u001b[0;34m\u001b[0m\u001b[0m\n\u001b[0m\u001b[1;32m     31\u001b[0m     \u001b[0mdriver\u001b[0m\u001b[0;34m.\u001b[0m\u001b[0mexecute_script\u001b[0m\u001b[0;34m(\u001b[0m\u001b[0;34m\"arguments[0].click();\"\u001b[0m\u001b[0;34m,\u001b[0m \u001b[0melement\u001b[0m\u001b[0;34m)\u001b[0m\u001b[0;34m\u001b[0m\u001b[0;34m\u001b[0m\u001b[0m\n\u001b[1;32m     32\u001b[0m \u001b[0;34m\u001b[0m\u001b[0m\n",
      "\u001b[0;32m~/anaconda3/lib/python3.9/site-packages/selenium/webdriver/support/wait.py\u001b[0m in \u001b[0;36muntil\u001b[0;34m(self, method, message)\u001b[0m\n\u001b[1;32m     90\u001b[0m                 \u001b[0mscreen\u001b[0m \u001b[0;34m=\u001b[0m \u001b[0mgetattr\u001b[0m\u001b[0;34m(\u001b[0m\u001b[0mexc\u001b[0m\u001b[0;34m,\u001b[0m \u001b[0;34m\"screen\"\u001b[0m\u001b[0;34m,\u001b[0m \u001b[0;32mNone\u001b[0m\u001b[0;34m)\u001b[0m\u001b[0;34m\u001b[0m\u001b[0;34m\u001b[0m\u001b[0m\n\u001b[1;32m     91\u001b[0m                 \u001b[0mstacktrace\u001b[0m \u001b[0;34m=\u001b[0m \u001b[0mgetattr\u001b[0m\u001b[0;34m(\u001b[0m\u001b[0mexc\u001b[0m\u001b[0;34m,\u001b[0m \u001b[0;34m\"stacktrace\"\u001b[0m\u001b[0;34m,\u001b[0m \u001b[0;32mNone\u001b[0m\u001b[0;34m)\u001b[0m\u001b[0;34m\u001b[0m\u001b[0;34m\u001b[0m\u001b[0m\n\u001b[0;32m---> 92\u001b[0;31m             \u001b[0mtime\u001b[0m\u001b[0;34m.\u001b[0m\u001b[0msleep\u001b[0m\u001b[0;34m(\u001b[0m\u001b[0mself\u001b[0m\u001b[0;34m.\u001b[0m\u001b[0m_poll\u001b[0m\u001b[0;34m)\u001b[0m\u001b[0;34m\u001b[0m\u001b[0;34m\u001b[0m\u001b[0m\n\u001b[0m\u001b[1;32m     93\u001b[0m             \u001b[0;32mif\u001b[0m \u001b[0mtime\u001b[0m\u001b[0;34m.\u001b[0m\u001b[0mmonotonic\u001b[0m\u001b[0;34m(\u001b[0m\u001b[0;34m)\u001b[0m \u001b[0;34m>\u001b[0m \u001b[0mend_time\u001b[0m\u001b[0;34m:\u001b[0m\u001b[0;34m\u001b[0m\u001b[0;34m\u001b[0m\u001b[0m\n\u001b[1;32m     94\u001b[0m                 \u001b[0;32mbreak\u001b[0m\u001b[0;34m\u001b[0m\u001b[0;34m\u001b[0m\u001b[0m\n",
      "\u001b[0;31mKeyboardInterrupt\u001b[0m: "
     ]
    }
   ],
   "source": [
    "from selenium import webdriver\n",
    "from selenium.webdriver.common.by import By\n",
    "from selenium.webdriver.support.ui import WebDriverWait\n",
    "from selenium.webdriver.support import expected_conditions as EC\n",
    "from selenium.common.exceptions import WebDriverException\n",
    "import time\n",
    "\n",
    "page_number = int(input(\"How many app in site:\"))\n",
    "sayfa_ismi = str(input(\"What is the name of the site:\"))\n",
    "\n",
    "chrome_options = webdriver.ChromeOptions()\n",
    "prefs = {'profile.default_content_setting_values.automatic_downloads': 1}\n",
    "chrome_options.add_experimental_option(\"prefs\", prefs)\n",
    "driver = webdriver.Chrome(options = chrome_options)\n",
    "\n",
    "driver.get(f\"http://www.oldversion.com/windows/software/{sayfa_ismi}/\")\n",
    "\n",
    "element4_css = \"#all > div > span.control > span:nth-child(1) > div > div.selectedTxt\"\n",
    "element4 = WebDriverWait(driver, 30).until(EC.element_to_be_clickable((By.CSS_SELECTOR, element4_css)))\n",
    "driver.execute_script(\"arguments[0].click();\", element4)\n",
    "time.sleep(1)\n",
    "element5_css = \"#all > div > span.control > span:nth-child(1) > div > div.SSContainerDivWrapper > ul > li:nth-child(3) > a\"\n",
    "element5 = WebDriverWait(driver, 30).until(EC.element_to_be_clickable((By.CSS_SELECTOR, element5_css)))\n",
    "driver.execute_script(\"arguments[0].click();\", element5)\n",
    "\n",
    "for page_number in range(16, page_number):\n",
    "\n",
    "\n",
    "    element_css = f\"#all > table > tbody > tr:nth-child({page_number}) > td.description > div > h3 > a\"\n",
    "    element = WebDriverWait(driver, 30).until(EC.element_to_be_clickable((By.CSS_SELECTOR, element_css)))\n",
    "    driver.execute_script(\"arguments[0].click();\", element)\n",
    "\n",
    "    try:\n",
    "        element2_css = \"#main > div.softwares.clearfix > div.downloads.clearfix > div.column.flR > div > div > a\"\n",
    "        element2 = WebDriverWait(driver, 10).until(EC.element_to_be_clickable((By.CSS_SELECTOR, element2_css)))\n",
    "        driver.execute_script(\"arguments[0].click();\", element2)\n",
    "\n",
    "\n",
    "        element3_css = \"#main > div.softwares.version.clearfix > div.column.flR.meta-data > div > div > form > input.button4.png-bg\"\n",
    "        element3 = WebDriverWait(driver, 10).until(EC.element_to_be_clickable((By.CSS_SELECTOR, element3_css)))\n",
    "        driver.execute_script(\"arguments[0].click();\", element3)\n",
    "\n",
    "        time.sleep(10)\n",
    "\n",
    "        driver.back()\n",
    "        time.sleep(0,2)\n",
    "        driver.back()\n",
    "        time.sleep(0,2)\n",
    "        driver.back()\n",
    "        \n",
    "    except:\n",
    "        driver.back()\n",
    "        time.sleep(1)\n",
    "\n",
    "    \n",
    "    \n",
    "    element4_css = \"#all > div > span.control > span:nth-child(1) > div > div.selectedTxt\"\n",
    "    element4 = WebDriverWait(driver, 30).until(EC.element_to_be_clickable((By.CSS_SELECTOR, element4_css)))\n",
    "    driver.execute_script(\"arguments[0].click();\", element4)\n",
    "        \n",
    "    time.sleep(1)\n",
    "    element5_css = \"#all > div > span.control > span:nth-child(1) > div > div.SSContainerDivWrapper > ul > li:nth-child(3) > a\"\n",
    "    element5 = WebDriverWait(driver, 30).until(EC.element_to_be_clickable((By.CSS_SELECTOR, element5_css)))\n",
    "    driver.execute_script(\"arguments[0].click();\", element5)\n",
    "\n",
    "\n",
    "\n",
    "driver.quit()"
   ]
  }
 ],
 "metadata": {
  "kernelspec": {
   "display_name": "base",
   "language": "python",
   "name": "python3"
  },
  "language_info": {
   "codemirror_mode": {
    "name": "ipython",
    "version": 3
   },
   "file_extension": ".py",
   "mimetype": "text/x-python",
   "name": "python",
   "nbconvert_exporter": "python",
   "pygments_lexer": "ipython3",
   "version": "3.9.13"
  },
  "orig_nbformat": 4
 },
 "nbformat": 4,
 "nbformat_minor": 2
}
